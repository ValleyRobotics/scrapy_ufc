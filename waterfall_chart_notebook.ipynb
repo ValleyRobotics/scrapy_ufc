{
 "cells": [
  {
   "cell_type": "code",
   "execution_count": 10,
   "metadata": {
    "collapsed": true
   },
   "outputs": [
    {
     "data": {
      "text/plain": "              amount\nsales         350000\nreturns       -30000\ncredit fees    -7500\nrebates       -25000\nlate charges   95000\nshipping       -7000",
      "text/html": "<div>\n<style scoped>\n    .dataframe tbody tr th:only-of-type {\n        vertical-align: middle;\n    }\n\n    .dataframe tbody tr th {\n        vertical-align: top;\n    }\n\n    .dataframe thead th {\n        text-align: right;\n    }\n</style>\n<table border=\"1\" class=\"dataframe\">\n  <thead>\n    <tr style=\"text-align: right;\">\n      <th></th>\n      <th>amount</th>\n    </tr>\n  </thead>\n  <tbody>\n    <tr>\n      <th>sales</th>\n      <td>350000</td>\n    </tr>\n    <tr>\n      <th>returns</th>\n      <td>-30000</td>\n    </tr>\n    <tr>\n      <th>credit fees</th>\n      <td>-7500</td>\n    </tr>\n    <tr>\n      <th>rebates</th>\n      <td>-25000</td>\n    </tr>\n    <tr>\n      <th>late charges</th>\n      <td>95000</td>\n    </tr>\n    <tr>\n      <th>shipping</th>\n      <td>-7000</td>\n    </tr>\n  </tbody>\n</table>\n</div>"
     },
     "metadata": {},
     "output_type": "display_data"
    },
    {
     "data": {
      "text/plain": "sales           350000\nreturns         320000\ncredit fees     312500\nrebates         287500\nlate charges    382500\nshipping        375500\nName: amount, dtype: int64"
     },
     "metadata": {},
     "output_type": "display_data"
    },
    {
     "data": {
      "text/plain": "sales                0.0\nreturns         350000.0\ncredit fees     320000.0\nrebates         312500.0\nlate charges    287500.0\nshipping        382500.0\nName: amount, dtype: float64"
     },
     "metadata": {},
     "output_type": "display_data"
    },
    {
     "data": {
      "text/plain": "              amount\nsales         350000\nreturns       -30000\ncredit fees    -7500\nrebates       -25000\nlate charges   95000\nshipping       -7000\nnet           375500",
      "text/html": "<div>\n<style scoped>\n    .dataframe tbody tr th:only-of-type {\n        vertical-align: middle;\n    }\n\n    .dataframe tbody tr th {\n        vertical-align: top;\n    }\n\n    .dataframe thead th {\n        text-align: right;\n    }\n</style>\n<table border=\"1\" class=\"dataframe\">\n  <thead>\n    <tr style=\"text-align: right;\">\n      <th></th>\n      <th>amount</th>\n    </tr>\n  </thead>\n  <tbody>\n    <tr>\n      <th>sales</th>\n      <td>350000</td>\n    </tr>\n    <tr>\n      <th>returns</th>\n      <td>-30000</td>\n    </tr>\n    <tr>\n      <th>credit fees</th>\n      <td>-7500</td>\n    </tr>\n    <tr>\n      <th>rebates</th>\n      <td>-25000</td>\n    </tr>\n    <tr>\n      <th>late charges</th>\n      <td>95000</td>\n    </tr>\n    <tr>\n      <th>shipping</th>\n      <td>-7000</td>\n    </tr>\n    <tr>\n      <th>net</th>\n      <td>375500</td>\n    </tr>\n  </tbody>\n</table>\n</div>"
     },
     "metadata": {},
     "output_type": "display_data"
    },
    {
     "data": {
      "text/plain": "sales                0.0\nreturns         350000.0\ncredit fees     320000.0\nrebates         312500.0\nlate charges    287500.0\nshipping        382500.0\nnet             375500.0\nName: amount, dtype: float64"
     },
     "metadata": {},
     "output_type": "display_data"
    },
    {
     "data": {
      "text/plain": "0         0.0\n0         NaN\n0    350000.0\n1    350000.0\n1         NaN\n1    320000.0\n2    320000.0\n2         NaN\n2    312500.0\n3    312500.0\n3         NaN\n3    287500.0\n4    287500.0\n4         NaN\n4    382500.0\n5    382500.0\n5         NaN\n5    375500.0\n6    375500.0\n6         NaN\n6         NaN\nName: amount, dtype: float64"
     },
     "metadata": {},
     "output_type": "display_data"
    }
   ],
   "source": [
    "import numpy as np\n",
    "import pandas as pd\n",
    "import matplotlib.pyplot as plt\n",
    "from IPython.display import display\n",
    "%matplotlib inline\n",
    "\n",
    "index = ['sales','returns','credit fees','rebates','late charges','shipping']\n",
    "data = {'amount': [350000,-30000,-7500,-25000,95000,-7000]}\n",
    "trans = pd.DataFrame(data=data,index=index)\n",
    "\n",
    "\n",
    "\n",
    "display(trans)\n",
    "display(trans.amount.cumsum())\n",
    "blank=trans.amount.cumsum().shift(1).fillna(0)\n",
    "display(blank)\n",
    "\n",
    "total = trans.sum().amount\n",
    "trans.loc[\"net\"] = total\n",
    "blank.loc[\"net\"] = total\n",
    "display(trans)\n",
    "display(blank)\n",
    "\n",
    "step = blank.reset_index(drop=True).repeat(3).shift(-1)\n",
    "step[1::3] = np.nan\n",
    "display(step)\n",
    "blank.loc[\"net\"] = 0\n"
   ]
  },
  {
   "cell_type": "code",
   "execution_count": 12,
   "outputs": [
    {
     "data": {
      "text/plain": "[<matplotlib.lines.Line2D at 0x7fce181bebd0>]"
     },
     "execution_count": 12,
     "metadata": {},
     "output_type": "execute_result"
    },
    {
     "data": {
      "text/plain": "<Figure size 432x288 with 1 Axes>",
      "image/png": "[encoded data removed]"
     },
     "metadata": {
      "needs_background": "light"
     },
     "output_type": "display_data"
    }
   ],
   "source": [
    "\n",
    "step = blank.reset_index(drop=True).repeat(3).shift(-1)\n",
    "step[1::3] = np.nan\n",
    "\n",
    "blank.loc[\"net\"] = 0\n",
    "\n",
    "my_plot = trans.plot(kind='bar', stacked=True, bottom=blank,legend=None, title=\"2014 Sales Waterfall\")\n",
    "my_plot.plot(step.index, step.values,'k')"
   ],
   "metadata": {
    "collapsed": false,
    "pycharm": {
     "name": "#%%\n"
    }
   }
  },
  {
   "cell_type": "code",
   "execution_count": 13,
   "outputs": [],
   "source": [
    "def money(x, pos):\n",
    "    'The two args are the value and tick position'\n",
    "    return \"${:,.0f}\".format(x)\n"
   ],
   "metadata": {
    "collapsed": false,
    "pycharm": {
     "name": "#%%\n"
    }
   }
  },
  {
   "cell_type": "code",
   "execution_count": 16,
   "outputs": [],
   "source": [
    "from matplotlib.ticker import FuncFormatter\n",
    "formatter = FuncFormatter(money)\n"
   ],
   "metadata": {
    "collapsed": false,
    "pycharm": {
     "name": "#%%\n"
    }
   }
  },
  {
   "cell_type": "code",
   "execution_count": 17,
   "outputs": [
    {
     "data": {
      "text/plain": "<Figure size 432x288 with 1 Axes>",
      "image/png": "[encoded data removed]"
     },
     "metadata": {
      "needs_background": "light"
     },
     "output_type": "display_data"
    }
   ],
   "source": [
    "my_plot = trans.plot(kind='bar', stacked=True, bottom=blank,legend=None, title=\"2014 Sales Waterfall\")\n",
    "my_plot.plot(step.index, step.values,'k')\n",
    "my_plot.set_xlabel(\"Transaction Types\")\n",
    "my_plot.yaxis.set_major_formatter(formatter)\n"
   ],
   "metadata": {
    "collapsed": false,
    "pycharm": {
     "name": "#%%\n"
    }
   }
  },
  {
   "cell_type": "code",
   "execution_count": null,
   "outputs": [],
   "source": [],
   "metadata": {
    "collapsed": false,
    "pycharm": {
     "name": "#%%\n"
    }
   }
  }
 ],
 "metadata": {
  "kernelspec": {
   "display_name": "Python 3",
   "language": "python",
   "name": "python3"
  },
  "language_info": {
   "codemirror_mode": {
    "name": "ipython",
    "version": 2
   },
   "file_extension": ".py",
   "mimetype": "text/x-python",
   "name": "python",
   "nbconvert_exporter": "python",
   "pygments_lexer": "ipython2",
   "version": "2.7.6"
  }
 },
 "nbformat": 4,
 "nbformat_minor": 0
}